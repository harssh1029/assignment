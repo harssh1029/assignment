{
 "cells": [
  {
   "cell_type": "code",
   "execution_count": 12,
   "id": "3717fe7b-841c-4838-a7ce-11ccf06418ed",
   "metadata": {},
   "outputs": [],
   "source": [
    "import pandas as pd\n",
    "import numpy as np"
   ]
  },
  {
   "cell_type": "code",
   "execution_count": 18,
   "id": "69381688-d639-432b-b609-e1d8feb55168",
   "metadata": {},
   "outputs": [],
   "source": [
    "# loans_url = 'https://websdk-assets.s3.ap-south-1.amazonaws.com/public/txns+(13).csv'\n",
    "# repayments_url = 'https://websdk-assets.s3.ap-south-1.amazonaws.com/public/repayments+(2).csv'\n",
    "# loans_df = pd.read_csv(loans_url)\n",
    "# repayments_df = pd.read_csv(repayments_url)\n",
    "\n",
    "#with paths\n",
    "# Load the datasets\n",
    "loans_df = pd.read_csv('C:/trade/txns+(13).csv')\n",
    "repayments_df = pd.read_csv('C:/trade/repayments+(2).csv')\n",
    "# loans_df = pd.read_csv(loans_df)\n",
    "# repayments_df = pd.read_csv(repayments_df)\n"
   ]
  },
  {
   "cell_type": "code",
   "execution_count": 16,
   "id": "948c7c15-832c-4948-b7f9-36ac96c16ec0",
   "metadata": {},
   "outputs": [
    {
     "name": "stdout",
     "output_type": "stream",
     "text": [
      "   transactionId  outstandingAmount\n",
      "0         704663            -599.50\n",
      "1        1403240            -333.00\n",
      "2        1961345           -2386.34\n",
      "3        1682956           -2799.34\n",
      "4        2392323            1405.68\n"
     ]
    }
   ],
   "source": [
    "\n",
    "\n",
    "# Converting amounts from paise to rupees\n",
    "loans_df['emiPrincipal'] = loans_df['emiPrincipal'] / 100\n",
    "repayments_df['amount'] = repayments_df['amount'] / 100\n",
    "\n",
    "grouping_repayments = repayments_df.groupby('transactionId')['amount'].sum().reset_index()\n",
    "loans_df['totalPrincipal'] = loans_df['tenure'] * loans_df['emiPrincipal']\n",
    "\n",
    "# Merging on transactionId\n",
    "merged_df = pd.merge(loans_df, grouping_repayments, on='transactionId', how='left')\n",
    "merged_df['outstandingAmount'] = merged_df['totalPrincipal'] - merged_df['amount'].fillna(0)\n",
    "\n",
    "output_df = merged_df[['transactionId', 'outstandingAmount']]\n",
    "\n",
    "print(output_df.head())\n"
   ]
  },
  {
   "cell_type": "code",
   "execution_count": 6,
   "id": "fd2df51c-a928-417a-a507-673ad0f00859",
   "metadata": {},
   "outputs": [
    {
     "name": "stdin",
     "output_type": "stream",
     "text": [
      "Enter the date (YYYY-MM-DD):  2024-08-15\n"
     ]
    },
    {
     "name": "stdout",
     "output_type": "stream",
     "text": [
      "AUM as of 2024-08-15: -860593.27 rupees\n"
     ]
    }
   ],
   "source": [
    "\n",
    "# Converting  repaymentDay timezone \n",
    "repayments_df['repaymentDay'] = pd.to_datetime(repayments_df['repaymentDay']).dt.tz_localize(None)\n",
    "\n",
    "def calculate_aum(as_of_date):\n",
    "    filtered_repayments = repayments_df[repayments_df['repaymentDay'] <= as_of_date]\n",
    "    repayments_grouped = filtered_repayments.groupby('transactionId')['amount'].sum().reset_index()\n",
    "\n",
    "    # Calculating total principal to be paid per loan\n",
    "    loans_df['totalPrincipal'] = loans_df['tenure'] * loans_df['emiPrincipal']\n",
    "\n",
    "    merged_df = pd.merge(loans_df, repayments_grouped, on='transactionId', how='left')\n",
    "\n",
    "    merged_df['outstandingAmount'] = merged_df['totalPrincipal'] - merged_df['amount'].fillna(0)\n",
    "\n",
    "    aum = merged_df['outstandingAmount'].sum()\n",
    "\n",
    "    return aum\n",
    "\n",
    "#user input for date\n",
    "date_input = input(\"Enter the date (YYYY-MM-DD): \")\n",
    "as_of_date = pd.to_datetime(date_input)\n",
    "\n",
    "# Calculate AUM\n",
    "aum_as_of_date = calculate_aum(as_of_date)\n",
    "print(f\"AUM as of {date_input}: {aum_as_of_date} rupees\")"
   ]
  },
  {
   "cell_type": "code",
   "execution_count": 12,
   "id": "5fa55731-c68b-41d7-a48b-c11cb29682d7",
   "metadata": {},
   "outputs": [
    {
     "name": "stdout",
     "output_type": "stream",
     "text": [
      "dpd_bucket    month  amount_not_due  amount_dpd_0_30  amount_dpd_30_60  \\\n",
      "0           2022-02          9.3300           9.3300            9.3300   \n",
      "1           2022-03         26.6667          26.6667           26.6666   \n",
      "2           2022-04         48.8301           5.6600            0.0000   \n",
      "3           2022-05         54.8301           2.9933           10.0000   \n",
      "4           2022-06        113.3334           0.0000            0.0000   \n",
      "5           2022-07         46.8060          11.1202            3.3300   \n",
      "6           2022-08        180.6052           6.3266            0.0000   \n",
      "7           2022-09        114.2839         119.7798           58.1464   \n",
      "8           2022-10        131.0672          76.2699           33.8030   \n",
      "9           2022-11         61.8268          40.8766           32.2133   \n",
      "10          2023-01         42.4835          52.6532            0.0000   \n",
      "11          2023-02        125.2151          64.7905           26.8466   \n",
      "12          2023-03        187.6777          54.7539           18.1206   \n",
      "13          2023-04        210.2356          90.7370            4.1633   \n",
      "14          2023-05        252.1951         110.4647            0.0000   \n",
      "15          2023-06        265.2925          59.1506           19.1540   \n",
      "16          2023-07        682.1285         171.3866           75.4635   \n",
      "17          2023-08        659.1455         192.2480          159.6100   \n",
      "18          2023-09        914.9197         323.7493          239.9698   \n",
      "19          2023-10        843.4136         448.1195          177.9753   \n",
      "20          2023-11       1178.3120         569.6472          404.3462   \n",
      "21          2023-12       1520.7846         693.1821          776.7839   \n",
      "22          2024-01       1722.1199         825.2494          559.2619   \n",
      "23          2024-02       1991.8413        1026.8229          398.8877   \n",
      "24          2024-03       3181.8086        1627.6396          682.8459   \n",
      "25          2024-04       2828.4805        1805.8859          751.9316   \n",
      "26          2024-05       2676.6493         552.9542            0.0000   \n",
      "27          2024-06       1845.2413           0.0000            0.0000   \n",
      "\n",
      "dpd_bucket  amount_dpd_60_90  amount_dpd_90_above  \n",
      "0                     0.0000               0.0000  \n",
      "1                     0.0000               0.0000  \n",
      "2                     0.0000               0.0000  \n",
      "3                     0.0000               0.0000  \n",
      "4                     0.0000              86.6666  \n",
      "5                     0.0000               0.0000  \n",
      "6                     0.0000               0.0000  \n",
      "7                     0.0000               0.0000  \n",
      "8                     0.0000               0.0000  \n",
      "9                     0.0000               0.0000  \n",
      "10                    0.0000               0.0000  \n",
      "11                    0.0000               0.0000  \n",
      "12                    0.0000               0.0000  \n",
      "13                    0.0000               0.0000  \n",
      "14                    0.0000               0.0000  \n",
      "15                    0.0000               0.0000  \n",
      "16                    0.0000               0.0000  \n",
      "17                    0.0000               0.0000  \n",
      "18                    0.0000             236.7185  \n",
      "19                    0.0000               0.0000  \n",
      "20                   49.6420               2.0594  \n",
      "21                    0.0000              32.7300  \n",
      "22                  126.7344             127.4025  \n",
      "23                  146.0008              22.3695  \n",
      "24                   40.5614               0.0000  \n",
      "25                    0.0000               0.0000  \n",
      "26                    0.0000               0.0000  \n",
      "27                    0.0000               0.0000  \n"
     ]
    }
   ],
   "source": [
    "loans_df['emiPrincipal'] = loans_df['emiPrincipal'] / 100\n",
    "repayments_df['amount'] = repayments_df['amount'] / 100\n",
    "\n",
    "# Convert day and repaymentDay to datetime\n",
    "loans_df['day'] = pd.to_datetime(loans_df['day']).dt.tz_localize(None)\n",
    "repayments_df['repaymentDay'] = pd.to_datetime(repayments_df['repaymentDay']).dt.tz_localize(None)\n",
    "\n",
    "# Calculating the due dates for each EMI\n",
    "loans_df['due_date'] = loans_df['day'] + pd.to_timedelta(30, unit='d')\n",
    "\n",
    "repayments_merged = pd.merge(repayments_df, loans_df[['transactionId', 'due_date', 'emiPrincipal', 'day']], on='transactionId', how='left')\n",
    "\n",
    "repayments_merged['dpd'] = (repayments_merged['repaymentDay'] - repayments_merged['due_date']).dt.days\n",
    "\n",
    "conditions = [\n",
    "    (repayments_merged['dpd'] < 0),\n",
    "    (repayments_merged['dpd'] >= 0) & (repayments_merged['dpd'] < 30),\n",
    "    (repayments_merged['dpd'] >= 30) & (repayments_merged['dpd'] < 60),\n",
    "    (repayments_merged['dpd'] >= 60) & (repayments_merged['dpd'] < 90),\n",
    "    (repayments_merged['dpd'] >= 90)\n",
    "]\n",
    "choices = ['amount_not_due', 'amount_dpd_0_30', 'amount_dpd_30_60', 'amount_dpd_60_90', 'amount_dpd_90_above']\n",
    "repayments_merged['dpd_bucket'] = np.select(conditions, choices, default='amount_not_due')\n",
    "\n",
    "repayments_merged['month'] = repayments_merged['day'].dt.to_period('M')\n",
    "dpd_agg = repayments_merged.pivot_table(index='month', columns='dpd_bucket', values='amount', aggfunc='sum', fill_value=0).reset_index()\n",
    "\n",
    "dpd_agg = dpd_agg.reindex(columns=['month', 'amount_not_due', 'amount_dpd_0_30', 'amount_dpd_30_60', 'amount_dpd_60_90', 'amount_dpd_90_above'], fill_value=0)\n",
    "\n",
    "print(dpd_agg)"
   ]
  },
  {
   "cell_type": "code",
   "execution_count": null,
   "id": "f7c9202a-d6e5-4e04-8e66-2495cb45b1f1",
   "metadata": {},
   "outputs": [],
   "source": []
  },
  {
   "cell_type": "code",
   "execution_count": null,
   "id": "01350b79-ed7f-4612-8c51-c96a49d5c3e2",
   "metadata": {},
   "outputs": [],
   "source": []
  }
 ],
 "metadata": {
  "kernelspec": {
   "display_name": "Python 3 (ipykernel)",
   "language": "python",
   "name": "python3"
  },
  "language_info": {
   "codemirror_mode": {
    "name": "ipython",
    "version": 3
   },
   "file_extension": ".py",
   "mimetype": "text/x-python",
   "name": "python",
   "nbconvert_exporter": "python",
   "pygments_lexer": "ipython3",
   "version": "3.9.0"
  }
 },
 "nbformat": 4,
 "nbformat_minor": 5
}
